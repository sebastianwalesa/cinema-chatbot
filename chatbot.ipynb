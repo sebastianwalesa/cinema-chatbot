{
 "cells": [
  {
   "cell_type": "code",
   "execution_count": null,
   "id": "unlike-fleet",
   "metadata": {},
   "outputs": [],
   "source": []
  },
  {
   "cell_type": "code",
   "execution_count": null,
   "id": "dedicated-offset",
   "metadata": {},
   "outputs": [],
   "source": []
  },
  {
   "cell_type": "code",
   "execution_count": 1,
   "id": "cognitive-doctor",
   "metadata": {},
   "outputs": [
    {
     "name": "stdout",
     "output_type": "stream",
     "text": [
      "  _____________________________ \n",
      " |                             |\n",
      " |                             |\n",
      " |     System rezerwacji       |\n",
      " |     biletów kinowych        |\n",
      " |                             |\n",
      " |                             |\n",
      " '-----------------------------'\n",
      "        (~~) (~~) (~~) (~~)     \n",
      "        _)(___)(___)(___)(_     \n",
      "     (~~) (~~) (~~) (~~) (~~)   \n",
      "     _)(___)(___)(___)(___)(_   \n",
      "  (~~) (~~) (~~) (~~) (~~) (~~) \n",
      "  _)(___)(___)(___)(___)(___)(_ \n",
      " |    |    |    |    |    |    |\n",
      " |    |    |    |    |    |    |\n",
      " ||~~~~~||~~~~~||~~~~~||~~~~~~||\n",
      " `'     `'     `'     `'      `'\n",
      "Jeśli chcesz zresetować rozmowę wpisz \"reset\"\n"
     ]
    },
    {
     "name": "stdin",
     "output_type": "stream",
     "text": [
      ">>> mogę prosić aktualny repertuar?\n"
     ]
    },
    {
     "name": "stdout",
     "output_type": "stream",
     "text": [
      "Aktualnie repertuar zawiera takie filmy jak: \"Batman\" \"Ambulans\" \"Bunkier strachu\" \"Córka\" \"Uncharted\" \"Inni ludzie\" \"Śmierć na Nilu\" \"Skarb Mikołajka\"\n",
      "Ile biletów ma zostać zarezerwowanych?\n"
     ]
    },
    {
     "name": "stdin",
     "output_type": "stream",
     "text": [
      ">>> wszystkie dostępne\n"
     ]
    },
    {
     "name": "stdout",
     "output_type": "stream",
     "text": [
      "Nie wiem co masz na myśli\n"
     ]
    },
    {
     "name": "stdin",
     "output_type": "stream",
     "text": [
      ">>> 2\n"
     ]
    },
    {
     "name": "stdout",
     "output_type": "stream",
     "text": [
      "Na jaki film ma zostać dokonana rezerwacja?\n"
     ]
    },
    {
     "name": "stdin",
     "output_type": "stream",
     "text": [
      ">>> batman\n"
     ]
    },
    {
     "name": "stdout",
     "output_type": "stream",
     "text": [
      "Na który dzień ma być dokonana rezerwacja?\n"
     ]
    },
    {
     "name": "stdin",
     "output_type": "stream",
     "text": [
      ">>> 12\n"
     ]
    },
    {
     "name": "stdout",
     "output_type": "stream",
     "text": [
      "Na który dzień ma być dokonana rezerwacja?\n"
     ]
    },
    {
     "name": "stdin",
     "output_type": "stream",
     "text": [
      ">>> dzis\n"
     ]
    },
    {
     "name": "stdout",
     "output_type": "stream",
     "text": [
      "Czy miejsca mają być z przodu, z tyłu czy na środku?\n"
     ]
    },
    {
     "name": "stdin",
     "output_type": "stream",
     "text": [
      ">>> przód\n"
     ]
    },
    {
     "name": "stdout",
     "output_type": "stream",
     "text": [
      "Nie wiem co masz na myśli\n"
     ]
    },
    {
     "name": "stdin",
     "output_type": "stream",
     "text": [
      ">>> z przodu\n"
     ]
    },
    {
     "name": "stdout",
     "output_type": "stream",
     "text": [
      "Na jaki numer telefonu ma zostać dokonana rezerwacja?\n"
     ]
    },
    {
     "name": "stdin",
     "output_type": "stream",
     "text": [
      ">>> 123\\\n"
     ]
    },
    {
     "name": "stdout",
     "output_type": "stream",
     "text": [
      "Proszę podać poprawny numer telefonu.\n",
      "Na jaki numer telefonu ma zostać dokonana rezerwacja?\n"
     ]
    },
    {
     "name": "stdin",
     "output_type": "stream",
     "text": [
      ">>> 1234567\n"
     ]
    },
    {
     "name": "stdout",
     "output_type": "stream",
     "text": [
      "Proszę podać poprawny numer telefonu.\n",
      "Na jaki numer telefonu ma zostać dokonana rezerwacja?\n"
     ]
    },
    {
     "name": "stdin",
     "output_type": "stream",
     "text": [
      ">>> 123456789\n"
     ]
    },
    {
     "name": "stdout",
     "output_type": "stream",
     "text": [
      "Rezerwacja została dokonana. Potwierdzenie rezerwacji wraz z numerem miejsc zostanie niebawem przesłane wiadomością SMS.\n",
      "Proszę o przybycie 15 minut przed rozpoczęciem seansu w celu zakupu biletu, w innym przypadku rezerwacja przepada.\n",
      "\n",
      "==================================================================================================================\n",
      "\n",
      "Zachęcamy do wypełnienia ankiety :)\n",
      "\n"
     ]
    },
    {
     "data": {
      "image/png": "[encoded data removed]",
      "text/plain": [
       "<Figure size 432x288 with 1 Axes>"
      ]
     },
     "metadata": {
      "needs_background": "light"
     },
     "output_type": "display_data"
    }
   ],
   "source": [
    "from DST import Dst\n",
    "from AJN import *\n",
    "from NLG import nlg\n",
    "\n",
    "\n",
    "\n",
    "if __name__ == \"__main__\":\n",
    "    \n",
    "    dst = Dst()\n",
    "    next_question = dst.get_next_question()\n",
    "    print(\"  _____________________________ \")\n",
    "    print(\" |                             |\")\n",
    "    print(\" |                             |\")\n",
    "    print(\" |     System rezerwacji       |\")\n",
    "    print(\" |     biletów kinowych        |\")\n",
    "    print(\" |                             |\")\n",
    "    print(\" |                             |\")\n",
    "    print(\" '-----------------------------'\")\n",
    "    print(\"        (~~) (~~) (~~) (~~)     \")\n",
    "    print(\"        _)(___)(___)(___)(_     \")\n",
    "    print(\"     (~~) (~~) (~~) (~~) (~~)   \")\n",
    "    print(\"     _)(___)(___)(___)(___)(_   \") \n",
    "    print(\"  (~~) (~~) (~~) (~~) (~~) (~~) \")\n",
    "    print(\"  _)(___)(___)(___)(___)(___)(_ \")\n",
    "    print(\" |    |    |    |    |    |    |\")\n",
    "    print(\" |    |    |    |    |    |    |\")\n",
    "    print(\" ||~~~~~||~~~~~||~~~~~||~~~~~~||\") \n",
    "    print(\" `'     `'     `'     `'      `'\")\n",
    "    print('Jeśli chcesz zresetować rozmowę wpisz \\\"reset\\\"')\n",
    "\n",
    "    \n",
    "    while (next_question):\n",
    "        \n",
    "        \n",
    "        text = input('>>>')\n",
    "        \n",
    "        \n",
    "        frame = ajn(text)\n",
    "        \n",
    "        dst.reset_if_needed(text)\n",
    "        \n",
    "        \n",
    "        \n",
    "        dst.save_answer(frame['slots'])\n",
    "        \n",
    "        next_question = dst.get_next_question()\n",
    "#         print(next_question)\n",
    "#         print(dst.checklist)\n",
    "#         print(frame['slots'])\n",
    "#         print(frame['act'])\n",
    "        nlg(next_question,frame,text)\n",
    "        \n",
    "        if text == \"exit\" or frame['act'] == \"bye\":\n",
    "            break;\n",
    "\n",
    "        \n",
    "        \n",
    "\n"
   ]
  },
  {
   "cell_type": "code",
   "execution_count": null,
   "id": "composite-ministry",
   "metadata": {},
   "outputs": [],
   "source": []
  },
  {
   "cell_type": "code",
   "execution_count": null,
   "id": "random-charlotte",
   "metadata": {},
   "outputs": [],
   "source": []
  }
 ],
 "metadata": {
  "kernelspec": {
   "display_name": "Python 3",
   "language": "python",
   "name": "python3"
  },
  "language_info": {
   "codemirror_mode": {
    "name": "ipython",
    "version": 3
   },
   "file_extension": ".py",
   "mimetype": "text/x-python",
   "name": "python",
   "nbconvert_exporter": "python",
   "pygments_lexer": "ipython3",
   "version": "3.7.3"
  }
 },
 "nbformat": 4,
 "nbformat_minor": 5
}
